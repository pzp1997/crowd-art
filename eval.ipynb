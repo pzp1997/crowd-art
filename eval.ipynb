{
  "cells": [
    {
      "cell_type": "code",
      "source": [
        "import pandas as pd\n",
        "import os.path as path"
      ],
      "outputs": [],
      "execution_count": 2,
      "metadata": {
        "collapsed": false,
        "outputHidden": false,
        "inputHidden": false
      }
    },
    {
      "cell_type": "code",
      "source": [
        "def majority_vote(batch_df):\n",
        "    count_wins = {}\n",
        "    for _, row in batch_df.iterrows():\n",
        "        selected = row['Answer.selected']\n",
        "        winner = row['Input.{}'.format(selected)]\n",
        "        count_wins[winner] = count_wins.get(winner, 0) + 1\n",
        "    return sorted(count_wins, key=count_wins.get, reverse=True)"
      ],
      "outputs": [],
      "execution_count": 28,
      "metadata": {
        "collapsed": false,
        "outputHidden": false,
        "inputHidden": false
      }
    },
    {
      "cell_type": "code",
      "source": [
        "def main():\n",
        "    batch_df = pd.read_csv(path.join('Samples', 'sampleOutputQualityControl(Batch).csv'))\n",
        "    # display(batch_df)\n",
        "    votes = majority_vote(batch_df)\n",
        "    print(votes)"
      ],
      "outputs": [],
      "execution_count": 29,
      "metadata": {
        "collapsed": false,
        "outputHidden": false,
        "inputHidden": false
      }
    },
    {
      "cell_type": "code",
      "source": [
        "if __name__ == '__main__':\n",
        "    main()"
      ],
      "outputs": [
        {
          "output_type": "stream",
          "name": "stdout",
          "text": [
            "['https://s3.amazonaws.com/nets213-horse22.jpg', 'https://s3.amazonaws.com/nets213-horse20.jpg', 'https://s3.amazonaws.com/nets213-horse21.jpg']\n"
          ]
        }
      ],
      "execution_count": 30,
      "metadata": {
        "collapsed": false,
        "outputHidden": false,
        "inputHidden": false
      }
    },
    {
      "cell_type": "code",
      "source": [],
      "outputs": [],
      "execution_count": null,
      "metadata": {
        "collapsed": false,
        "outputHidden": false,
        "inputHidden": false
      }
    }
  ],
  "metadata": {
    "kernel_info": {
      "name": "python3"
    },
    "language_info": {
      "name": "python",
      "version": "3.7.2",
      "mimetype": "text/x-python",
      "codemirror_mode": {
        "name": "ipython",
        "version": 3
      },
      "pygments_lexer": "ipython3",
      "nbconvert_exporter": "python",
      "file_extension": ".py"
    },
    "kernelspec": {
      "name": "python3",
      "language": "python",
      "display_name": "Python 3"
    },
    "nteract": {
      "version": "0.12.3"
    }
  },
  "nbformat": 4,
  "nbformat_minor": 4
}