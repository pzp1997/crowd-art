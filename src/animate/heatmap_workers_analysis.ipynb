{
  "cells": [
    {
      "cell_type": "code",
      "source": [
        "import pandas as pd\n",
        "import json\n",
        "import numpy as np\n",
        "from collections import defaultdict\n",
        "# import imageio"
      ],
      "outputs": [],
      "execution_count": 2,
      "metadata": {
        "collapsed": false,
        "outputHidden": false,
        "inputHidden": false
      }
    },
    {
      "cell_type": "code",
      "source": [
        "heatmap_df = pd.read_csv('heatmap_workers.csv')"
      ],
      "outputs": [],
      "execution_count": 3,
      "metadata": {
        "collapsed": false,
        "outputHidden": false,
        "inputHidden": false
      }
    },
    {
      "cell_type": "code",
      "source": [
        "heatmap_df['SubmitTime'] = pd.to_datetime(heatmap_df['SubmitTime'])\n",
        "heatmap_df[['WorkerId', 'SubmitTime']].sort_values('SubmitTime')"
      ],
      "outputs": [
        {
          "output_type": "stream",
          "name": "stderr",
          "text": [
            "/usr/local/miniconda3/envs/cis530_conda/lib/python3.7/site-packages/dateutil/parser/_parser.py:1204: UnknownTimezoneWarning: tzname PDT identified but not understood.  Pass `tzinfos` argument in order to correctly return a timezone-aware datetime.  In a future version, this will raise an exception.\n",
            "  category=UnknownTimezoneWarning)\n"
          ]
        },
        {
          "output_type": "execute_result",
          "execution_count": 4,
          "data": {
            "text/plain": [
              "          WorkerId          SubmitTime\n",
              "33  A2QUXO9OJY69QM 2019-05-06 11:08:13\n",
              "77  A3BLJ6QSDTZC9U 2019-05-06 11:08:18\n",
              "61  A1MXW5CZIN62BU 2019-05-06 11:08:27\n",
              "4   A3NZAEOHAO5LT6 2019-05-06 11:08:32\n",
              "51  A2KLT3Z3UUJCQV 2019-05-06 11:08:52\n",
              "8   A3IX2J5AVF3LRG 2019-05-06 11:09:07\n",
              "72   AIN7LSGBTD8HF 2019-05-06 11:09:38\n",
              "42  A2UIRQTM2V9F7V 2019-05-06 11:09:45\n",
              "56  A35X2QXIS7N1W1 2019-05-06 11:09:47\n",
              "32  A23954R5J40QR0 2019-05-06 11:10:07\n",
              "91  A3NWQ0535HAXUD 2019-05-06 11:10:16\n",
              "81  A2WINYCSL7HZEC 2019-05-06 11:10:36\n",
              "79  A3AD3D4PZX4QCB 2019-05-06 11:10:40\n",
              "62  A1EGQAMPW9N5FT 2019-05-06 11:11:07\n",
              "53   A8PJHNOLEDTZI 2019-05-06 11:11:17\n",
              "41  A1TLKBW8KT7L6F 2019-05-06 11:12:03\n",
              "38  A35N8ILHISO4RW 2019-05-06 11:12:29\n",
              "85  A1QX1YDOAN4LNA 2019-05-06 11:12:32\n",
              "71  A29KTWZQDUOLR9 2019-05-06 11:12:35\n",
              "3    APZQEJ9KPIZOC 2019-05-06 11:12:38\n",
              "7    ANQF0LHVK1236 2019-05-06 11:13:14\n",
              "45  A2NGVPAXDPI41B 2019-05-06 11:13:34\n",
              "12  A2UX1I209LML50 2019-05-06 11:13:45\n",
              "27  A1BZNPQ0H7ZSER 2019-05-06 11:14:10\n",
              "20  A3TMU2RBQ3Y7F6 2019-05-06 11:14:17\n",
              "58  A2ADZEAP130MI2 2019-05-06 11:14:27\n",
              "75   AFMH601P0QVUK 2019-05-06 11:15:25\n",
              "57   AIYRSCNQ8I2QN 2019-05-06 11:18:00\n",
              "14  A2Z1GI3BKVQOKR 2019-05-06 11:19:02\n",
              "47   AOW5IZPNM79WW 2019-05-06 11:19:20\n",
              "..             ...                 ...\n",
              "99  A1S88VQY8G8CNC 2019-05-06 13:39:05\n",
              "82  A1BNEJ2Q76JNF3 2019-05-06 13:39:45\n",
              "2    AHBJPKHFURJ3I 2019-05-06 13:41:58\n",
              "28  A12OPH1K545YJW 2019-05-06 13:54:20\n",
              "1    A1F73T5YAJ9J9 2019-05-06 13:56:46\n",
              "40    A1FG2G9TZSDN 2019-05-06 13:58:38\n",
              "39   A2O5769QZUW7S 2019-05-06 14:04:37\n",
              "15  A3SHFOPG16PGNX 2019-05-06 14:14:50\n",
              "67  A153IWW5M88F18 2019-05-06 14:16:00\n",
              "19  A10S5LDYYYB496 2019-05-06 14:17:38\n",
              "80  A1NAWLZ2HOJZPB 2019-05-06 14:24:23\n",
              "21   ABN9IUIM1YA7Y 2019-05-06 14:51:41\n",
              "84  A2AOY2XTOICBMK 2019-05-06 15:00:27\n",
              "37  A1LXZ36RV89PSH 2019-05-06 15:14:23\n",
              "54  A3PSIT0A7OU2FL 2019-05-06 15:21:27\n",
              "88  A2O7YJDVLPCWOK 2019-05-06 15:52:31\n",
              "70  A3UNY9FSBWUFRX 2019-05-06 15:52:33\n",
              "96  A2346ZKALGO10B 2019-05-06 15:58:52\n",
              "65  A2U376MDCLSPOE 2019-05-06 16:24:31\n",
              "86   AJ86CAZX0QCE9 2019-05-06 16:26:28\n",
              "60   AZVHLSUNF4YRH 2019-05-06 16:35:28\n",
              "68  A1B14CS9DW7008 2019-05-06 16:41:31\n",
              "87  A3SLXZURCF9O67 2019-05-06 16:59:55\n",
              "22  A3BP890CXV4UMN 2019-05-06 17:13:32\n",
              "6   A3PR49TI746YMM 2019-05-06 17:36:16\n",
              "94  A38DXFI1TZA295 2019-05-06 18:04:54\n",
              "23  A1JNHHJGD0ZG1E 2019-05-06 18:19:10\n",
              "36  A1KVE1E8ZON2F7 2019-05-06 18:54:15\n",
              "31   A3B0AB2C9SIHN 2019-05-06 19:16:50\n",
              "64  A1CB1KFUN5OQVY 2019-05-06 19:33:58\n",
              "\n[100 rows x 2 columns]"
            ],
            "text/html": [
              "<div>\n",
              "<style scoped>\n",
              "    .dataframe tbody tr th:only-of-type {\n",
              "        vertical-align: middle;\n",
              "    }\n",
              "\n",
              "    .dataframe tbody tr th {\n",
              "        vertical-align: top;\n",
              "    }\n",
              "\n",
              "    .dataframe thead th {\n",
              "        text-align: right;\n",
              "    }\n",
              "</style>\n",
              "<table border=\"1\" class=\"dataframe\">\n",
              "  <thead>\n",
              "    <tr style=\"text-align: right;\">\n",
              "      <th></th>\n",
              "      <th>WorkerId</th>\n",
              "      <th>SubmitTime</th>\n",
              "    </tr>\n",
              "  </thead>\n",
              "  <tbody>\n",
              "    <tr>\n",
              "      <th>33</th>\n",
              "      <td>A2QUXO9OJY69QM</td>\n",
              "      <td>2019-05-06 11:08:13</td>\n",
              "    </tr>\n",
              "    <tr>\n",
              "      <th>77</th>\n",
              "      <td>A3BLJ6QSDTZC9U</td>\n",
              "      <td>2019-05-06 11:08:18</td>\n",
              "    </tr>\n",
              "    <tr>\n",
              "      <th>61</th>\n",
              "      <td>A1MXW5CZIN62BU</td>\n",
              "      <td>2019-05-06 11:08:27</td>\n",
              "    </tr>\n",
              "    <tr>\n",
              "      <th>4</th>\n",
              "      <td>A3NZAEOHAO5LT6</td>\n",
              "      <td>2019-05-06 11:08:32</td>\n",
              "    </tr>\n",
              "    <tr>\n",
              "      <th>51</th>\n",
              "      <td>A2KLT3Z3UUJCQV</td>\n",
              "      <td>2019-05-06 11:08:52</td>\n",
              "    </tr>\n",
              "    <tr>\n",
              "      <th>8</th>\n",
              "      <td>A3IX2J5AVF3LRG</td>\n",
              "      <td>2019-05-06 11:09:07</td>\n",
              "    </tr>\n",
              "    <tr>\n",
              "      <th>72</th>\n",
              "      <td>AIN7LSGBTD8HF</td>\n",
              "      <td>2019-05-06 11:09:38</td>\n",
              "    </tr>\n",
              "    <tr>\n",
              "      <th>42</th>\n",
              "      <td>A2UIRQTM2V9F7V</td>\n",
              "      <td>2019-05-06 11:09:45</td>\n",
              "    </tr>\n",
              "    <tr>\n",
              "      <th>56</th>\n",
              "      <td>A35X2QXIS7N1W1</td>\n",
              "      <td>2019-05-06 11:09:47</td>\n",
              "    </tr>\n",
              "    <tr>\n",
              "      <th>32</th>\n",
              "      <td>A23954R5J40QR0</td>\n",
              "      <td>2019-05-06 11:10:07</td>\n",
              "    </tr>\n",
              "    <tr>\n",
              "      <th>91</th>\n",
              "      <td>A3NWQ0535HAXUD</td>\n",
              "      <td>2019-05-06 11:10:16</td>\n",
              "    </tr>\n",
              "    <tr>\n",
              "      <th>81</th>\n",
              "      <td>A2WINYCSL7HZEC</td>\n",
              "      <td>2019-05-06 11:10:36</td>\n",
              "    </tr>\n",
              "    <tr>\n",
              "      <th>79</th>\n",
              "      <td>A3AD3D4PZX4QCB</td>\n",
              "      <td>2019-05-06 11:10:40</td>\n",
              "    </tr>\n",
              "    <tr>\n",
              "      <th>62</th>\n",
              "      <td>A1EGQAMPW9N5FT</td>\n",
              "      <td>2019-05-06 11:11:07</td>\n",
              "    </tr>\n",
              "    <tr>\n",
              "      <th>53</th>\n",
              "      <td>A8PJHNOLEDTZI</td>\n",
              "      <td>2019-05-06 11:11:17</td>\n",
              "    </tr>\n",
              "    <tr>\n",
              "      <th>41</th>\n",
              "      <td>A1TLKBW8KT7L6F</td>\n",
              "      <td>2019-05-06 11:12:03</td>\n",
              "    </tr>\n",
              "    <tr>\n",
              "      <th>38</th>\n",
              "      <td>A35N8ILHISO4RW</td>\n",
              "      <td>2019-05-06 11:12:29</td>\n",
              "    </tr>\n",
              "    <tr>\n",
              "      <th>85</th>\n",
              "      <td>A1QX1YDOAN4LNA</td>\n",
              "      <td>2019-05-06 11:12:32</td>\n",
              "    </tr>\n",
              "    <tr>\n",
              "      <th>71</th>\n",
              "      <td>A29KTWZQDUOLR9</td>\n",
              "      <td>2019-05-06 11:12:35</td>\n",
              "    </tr>\n",
              "    <tr>\n",
              "      <th>3</th>\n",
              "      <td>APZQEJ9KPIZOC</td>\n",
              "      <td>2019-05-06 11:12:38</td>\n",
              "    </tr>\n",
              "    <tr>\n",
              "      <th>7</th>\n",
              "      <td>ANQF0LHVK1236</td>\n",
              "      <td>2019-05-06 11:13:14</td>\n",
              "    </tr>\n",
              "    <tr>\n",
              "      <th>45</th>\n",
              "      <td>A2NGVPAXDPI41B</td>\n",
              "      <td>2019-05-06 11:13:34</td>\n",
              "    </tr>\n",
              "    <tr>\n",
              "      <th>12</th>\n",
              "      <td>A2UX1I209LML50</td>\n",
              "      <td>2019-05-06 11:13:45</td>\n",
              "    </tr>\n",
              "    <tr>\n",
              "      <th>27</th>\n",
              "      <td>A1BZNPQ0H7ZSER</td>\n",
              "      <td>2019-05-06 11:14:10</td>\n",
              "    </tr>\n",
              "    <tr>\n",
              "      <th>20</th>\n",
              "      <td>A3TMU2RBQ3Y7F6</td>\n",
              "      <td>2019-05-06 11:14:17</td>\n",
              "    </tr>\n",
              "    <tr>\n",
              "      <th>58</th>\n",
              "      <td>A2ADZEAP130MI2</td>\n",
              "      <td>2019-05-06 11:14:27</td>\n",
              "    </tr>\n",
              "    <tr>\n",
              "      <th>75</th>\n",
              "      <td>AFMH601P0QVUK</td>\n",
              "      <td>2019-05-06 11:15:25</td>\n",
              "    </tr>\n",
              "    <tr>\n",
              "      <th>57</th>\n",
              "      <td>AIYRSCNQ8I2QN</td>\n",
              "      <td>2019-05-06 11:18:00</td>\n",
              "    </tr>\n",
              "    <tr>\n",
              "      <th>14</th>\n",
              "      <td>A2Z1GI3BKVQOKR</td>\n",
              "      <td>2019-05-06 11:19:02</td>\n",
              "    </tr>\n",
              "    <tr>\n",
              "      <th>47</th>\n",
              "      <td>AOW5IZPNM79WW</td>\n",
              "      <td>2019-05-06 11:19:20</td>\n",
              "    </tr>\n",
              "    <tr>\n",
              "      <th>...</th>\n",
              "      <td>...</td>\n",
              "      <td>...</td>\n",
              "    </tr>\n",
              "    <tr>\n",
              "      <th>99</th>\n",
              "      <td>A1S88VQY8G8CNC</td>\n",
              "      <td>2019-05-06 13:39:05</td>\n",
              "    </tr>\n",
              "    <tr>\n",
              "      <th>82</th>\n",
              "      <td>A1BNEJ2Q76JNF3</td>\n",
              "      <td>2019-05-06 13:39:45</td>\n",
              "    </tr>\n",
              "    <tr>\n",
              "      <th>2</th>\n",
              "      <td>AHBJPKHFURJ3I</td>\n",
              "      <td>2019-05-06 13:41:58</td>\n",
              "    </tr>\n",
              "    <tr>\n",
              "      <th>28</th>\n",
              "      <td>A12OPH1K545YJW</td>\n",
              "      <td>2019-05-06 13:54:20</td>\n",
              "    </tr>\n",
              "    <tr>\n",
              "      <th>1</th>\n",
              "      <td>A1F73T5YAJ9J9</td>\n",
              "      <td>2019-05-06 13:56:46</td>\n",
              "    </tr>\n",
              "    <tr>\n",
              "      <th>40</th>\n",
              "      <td>A1FG2G9TZSDN</td>\n",
              "      <td>2019-05-06 13:58:38</td>\n",
              "    </tr>\n",
              "    <tr>\n",
              "      <th>39</th>\n",
              "      <td>A2O5769QZUW7S</td>\n",
              "      <td>2019-05-06 14:04:37</td>\n",
              "    </tr>\n",
              "    <tr>\n",
              "      <th>15</th>\n",
              "      <td>A3SHFOPG16PGNX</td>\n",
              "      <td>2019-05-06 14:14:50</td>\n",
              "    </tr>\n",
              "    <tr>\n",
              "      <th>67</th>\n",
              "      <td>A153IWW5M88F18</td>\n",
              "      <td>2019-05-06 14:16:00</td>\n",
              "    </tr>\n",
              "    <tr>\n",
              "      <th>19</th>\n",
              "      <td>A10S5LDYYYB496</td>\n",
              "      <td>2019-05-06 14:17:38</td>\n",
              "    </tr>\n",
              "    <tr>\n",
              "      <th>80</th>\n",
              "      <td>A1NAWLZ2HOJZPB</td>\n",
              "      <td>2019-05-06 14:24:23</td>\n",
              "    </tr>\n",
              "    <tr>\n",
              "      <th>21</th>\n",
              "      <td>ABN9IUIM1YA7Y</td>\n",
              "      <td>2019-05-06 14:51:41</td>\n",
              "    </tr>\n",
              "    <tr>\n",
              "      <th>84</th>\n",
              "      <td>A2AOY2XTOICBMK</td>\n",
              "      <td>2019-05-06 15:00:27</td>\n",
              "    </tr>\n",
              "    <tr>\n",
              "      <th>37</th>\n",
              "      <td>A1LXZ36RV89PSH</td>\n",
              "      <td>2019-05-06 15:14:23</td>\n",
              "    </tr>\n",
              "    <tr>\n",
              "      <th>54</th>\n",
              "      <td>A3PSIT0A7OU2FL</td>\n",
              "      <td>2019-05-06 15:21:27</td>\n",
              "    </tr>\n",
              "    <tr>\n",
              "      <th>88</th>\n",
              "      <td>A2O7YJDVLPCWOK</td>\n",
              "      <td>2019-05-06 15:52:31</td>\n",
              "    </tr>\n",
              "    <tr>\n",
              "      <th>70</th>\n",
              "      <td>A3UNY9FSBWUFRX</td>\n",
              "      <td>2019-05-06 15:52:33</td>\n",
              "    </tr>\n",
              "    <tr>\n",
              "      <th>96</th>\n",
              "      <td>A2346ZKALGO10B</td>\n",
              "      <td>2019-05-06 15:58:52</td>\n",
              "    </tr>\n",
              "    <tr>\n",
              "      <th>65</th>\n",
              "      <td>A2U376MDCLSPOE</td>\n",
              "      <td>2019-05-06 16:24:31</td>\n",
              "    </tr>\n",
              "    <tr>\n",
              "      <th>86</th>\n",
              "      <td>AJ86CAZX0QCE9</td>\n",
              "      <td>2019-05-06 16:26:28</td>\n",
              "    </tr>\n",
              "    <tr>\n",
              "      <th>60</th>\n",
              "      <td>AZVHLSUNF4YRH</td>\n",
              "      <td>2019-05-06 16:35:28</td>\n",
              "    </tr>\n",
              "    <tr>\n",
              "      <th>68</th>\n",
              "      <td>A1B14CS9DW7008</td>\n",
              "      <td>2019-05-06 16:41:31</td>\n",
              "    </tr>\n",
              "    <tr>\n",
              "      <th>87</th>\n",
              "      <td>A3SLXZURCF9O67</td>\n",
              "      <td>2019-05-06 16:59:55</td>\n",
              "    </tr>\n",
              "    <tr>\n",
              "      <th>22</th>\n",
              "      <td>A3BP890CXV4UMN</td>\n",
              "      <td>2019-05-06 17:13:32</td>\n",
              "    </tr>\n",
              "    <tr>\n",
              "      <th>6</th>\n",
              "      <td>A3PR49TI746YMM</td>\n",
              "      <td>2019-05-06 17:36:16</td>\n",
              "    </tr>\n",
              "    <tr>\n",
              "      <th>94</th>\n",
              "      <td>A38DXFI1TZA295</td>\n",
              "      <td>2019-05-06 18:04:54</td>\n",
              "    </tr>\n",
              "    <tr>\n",
              "      <th>23</th>\n",
              "      <td>A1JNHHJGD0ZG1E</td>\n",
              "      <td>2019-05-06 18:19:10</td>\n",
              "    </tr>\n",
              "    <tr>\n",
              "      <th>36</th>\n",
              "      <td>A1KVE1E8ZON2F7</td>\n",
              "      <td>2019-05-06 18:54:15</td>\n",
              "    </tr>\n",
              "    <tr>\n",
              "      <th>31</th>\n",
              "      <td>A3B0AB2C9SIHN</td>\n",
              "      <td>2019-05-06 19:16:50</td>\n",
              "    </tr>\n",
              "    <tr>\n",
              "      <th>64</th>\n",
              "      <td>A1CB1KFUN5OQVY</td>\n",
              "      <td>2019-05-06 19:33:58</td>\n",
              "    </tr>\n",
              "  </tbody>\n",
              "</table>\n",
              "<p>100 rows × 2 columns</p>\n",
              "</div>"
            ]
          },
          "metadata": {}
        }
      ],
      "execution_count": 4,
      "metadata": {
        "collapsed": false,
        "outputHidden": false,
        "inputHidden": false
      }
    },
    {
      "cell_type": "code",
      "source": [
        "heatmap_df['WorkTimeInSeconds'].describe()"
      ],
      "outputs": [
        {
          "output_type": "execute_result",
          "execution_count": 5,
          "data": {
            "text/plain": [
              "count     100.000000\n",
              "mean      104.410000\n",
              "std       391.329232\n",
              "min         9.000000\n",
              "25%        23.000000\n",
              "50%        28.500000\n",
              "75%        44.750000\n",
              "max      2733.000000\n",
              "Name: WorkTimeInSeconds, dtype: float64"
            ]
          },
          "metadata": {}
        }
      ],
      "execution_count": 5,
      "metadata": {
        "collapsed": false,
        "outputHidden": false,
        "inputHidden": false
      }
    },
    {
      "cell_type": "code",
      "source": [
        "worker_submittime = {}\n",
        "for _, row in heatmap_df[['WorkerId', 'SubmitTime']].iterrows():\n",
        "    worker_submittime[row['WorkerId']] = row['SubmitTime']\n",
        "worker_submittime"
      ],
      "outputs": [
        {
          "output_type": "execute_result",
          "execution_count": 6,
          "data": {
            "text/plain": [
              "{'A1LUZ1LUPUWUIL': Timestamp('2019-05-06 11:34:16'),\n",
              " 'A1F73T5YAJ9J9': Timestamp('2019-05-06 13:56:46'),\n",
              " 'AHBJPKHFURJ3I': Timestamp('2019-05-06 13:41:58'),\n",
              " 'APZQEJ9KPIZOC': Timestamp('2019-05-06 11:12:38'),\n",
              " 'A3NZAEOHAO5LT6': Timestamp('2019-05-06 11:08:32'),\n",
              " 'AWU522IJMK5EB': Timestamp('2019-05-06 11:31:14'),\n",
              " 'A3PR49TI746YMM': Timestamp('2019-05-06 17:36:16'),\n",
              " 'ANQF0LHVK1236': Timestamp('2019-05-06 11:13:14'),\n",
              " 'A3IX2J5AVF3LRG': Timestamp('2019-05-06 11:09:07'),\n",
              " 'A349TSPKFHIWE1': Timestamp('2019-05-06 11:21:51'),\n",
              " 'A1EVKV4NXCYN5Z': Timestamp('2019-05-06 13:18:07'),\n",
              " 'A3O1LQCBNGXL7P': Timestamp('2019-05-06 12:14:46'),\n",
              " 'A2UX1I209LML50': Timestamp('2019-05-06 11:13:45'),\n",
              " 'A26HH5XUH214F7': Timestamp('2019-05-06 12:00:08'),\n",
              " 'A2Z1GI3BKVQOKR': Timestamp('2019-05-06 11:19:02'),\n",
              " 'A3SHFOPG16PGNX': Timestamp('2019-05-06 14:14:50'),\n",
              " 'A2IPLNZ9SMN8MK': Timestamp('2019-05-06 12:25:19'),\n",
              " 'A2HR7ZIX42FEPG': Timestamp('2019-05-06 11:53:04'),\n",
              " 'A2TEF5K1UBKZ2C': Timestamp('2019-05-06 12:32:28'),\n",
              " 'A10S5LDYYYB496': Timestamp('2019-05-06 14:17:38'),\n",
              " 'A3TMU2RBQ3Y7F6': Timestamp('2019-05-06 11:14:17'),\n",
              " 'ABN9IUIM1YA7Y': Timestamp('2019-05-06 14:51:41'),\n",
              " 'A3BP890CXV4UMN': Timestamp('2019-05-06 17:13:32'),\n",
              " 'A1JNHHJGD0ZG1E': Timestamp('2019-05-06 18:19:10'),\n",
              " 'A3RN5GD583FY4K': Timestamp('2019-05-06 13:19:41'),\n",
              " 'A3PIHDC8LXVQ4H': Timestamp('2019-05-06 12:45:55'),\n",
              " 'A1ESO3NFQXHF32': Timestamp('2019-05-06 12:03:10'),\n",
              " 'A1BZNPQ0H7ZSER': Timestamp('2019-05-06 11:14:10'),\n",
              " 'A12OPH1K545YJW': Timestamp('2019-05-06 13:54:20'),\n",
              " 'A1OD9OA9B34FL': Timestamp('2019-05-06 11:29:58'),\n",
              " 'AMAHA0ZFX82VZ': Timestamp('2019-05-06 11:30:08'),\n",
              " 'A3B0AB2C9SIHN': Timestamp('2019-05-06 19:16:50'),\n",
              " 'A23954R5J40QR0': Timestamp('2019-05-06 11:10:07'),\n",
              " 'A2QUXO9OJY69QM': Timestamp('2019-05-06 11:08:13'),\n",
              " 'A35C0II2FFV18S': Timestamp('2019-05-06 11:52:36'),\n",
              " 'A2TFCGGXOTX5YC': Timestamp('2019-05-06 11:34:13'),\n",
              " 'A1KVE1E8ZON2F7': Timestamp('2019-05-06 18:54:15'),\n",
              " 'A1LXZ36RV89PSH': Timestamp('2019-05-06 15:14:23'),\n",
              " 'A35N8ILHISO4RW': Timestamp('2019-05-06 11:12:29'),\n",
              " 'A2O5769QZUW7S': Timestamp('2019-05-06 14:04:37'),\n",
              " 'A1FG2G9TZSDN': Timestamp('2019-05-06 13:58:38'),\n",
              " 'A1TLKBW8KT7L6F': Timestamp('2019-05-06 11:12:03'),\n",
              " 'A2UIRQTM2V9F7V': Timestamp('2019-05-06 11:09:45'),\n",
              " 'A1ANSFI5L7SUUH': Timestamp('2019-05-06 11:55:12'),\n",
              " 'ABVM2KJ7CRNZ0': Timestamp('2019-05-06 12:02:13'),\n",
              " 'A2NGVPAXDPI41B': Timestamp('2019-05-06 11:13:34'),\n",
              " 'A3C0Z2U1VXFOJN': Timestamp('2019-05-06 13:18:06'),\n",
              " 'AOW5IZPNM79WW': Timestamp('2019-05-06 11:19:20'),\n",
              " 'A3RAL81XKTKNMS': Timestamp('2019-05-06 12:27:39'),\n",
              " 'AD99N8AB266T7': Timestamp('2019-05-06 11:58:46'),\n",
              " 'A2637HO77XFWQI': Timestamp('2019-05-06 13:20:34'),\n",
              " 'A2KLT3Z3UUJCQV': Timestamp('2019-05-06 11:08:52'),\n",
              " 'A1SUUTWO9RWT4F': Timestamp('2019-05-06 13:25:12'),\n",
              " 'A8PJHNOLEDTZI': Timestamp('2019-05-06 11:11:17'),\n",
              " 'A3PSIT0A7OU2FL': Timestamp('2019-05-06 15:21:27'),\n",
              " 'A337MKRWW1YJSD': Timestamp('2019-05-06 12:37:24'),\n",
              " 'A35X2QXIS7N1W1': Timestamp('2019-05-06 11:09:47'),\n",
              " 'AIYRSCNQ8I2QN': Timestamp('2019-05-06 11:18:00'),\n",
              " 'A2ADZEAP130MI2': Timestamp('2019-05-06 11:14:27'),\n",
              " 'AEJKD2E3MQKW5': Timestamp('2019-05-06 12:29:07'),\n",
              " 'AZVHLSUNF4YRH': Timestamp('2019-05-06 16:35:28'),\n",
              " 'A1MXW5CZIN62BU': Timestamp('2019-05-06 11:08:27'),\n",
              " 'A1EGQAMPW9N5FT': Timestamp('2019-05-06 11:11:07'),\n",
              " 'A1YQYQRX5YFNJW': Timestamp('2019-05-06 11:46:31'),\n",
              " 'A1CB1KFUN5OQVY': Timestamp('2019-05-06 19:33:58'),\n",
              " 'A2U376MDCLSPOE': Timestamp('2019-05-06 16:24:31'),\n",
              " 'A3MW1FSUZ4MMGE': Timestamp('2019-05-06 11:37:25'),\n",
              " 'A153IWW5M88F18': Timestamp('2019-05-06 14:16:00'),\n",
              " 'A1B14CS9DW7008': Timestamp('2019-05-06 16:41:31'),\n",
              " 'A1NVQWRO6FJDBI': Timestamp('2019-05-06 11:24:33'),\n",
              " 'A3UNY9FSBWUFRX': Timestamp('2019-05-06 15:52:33'),\n",
              " 'A29KTWZQDUOLR9': Timestamp('2019-05-06 11:12:35'),\n",
              " 'AIN7LSGBTD8HF': Timestamp('2019-05-06 11:09:38'),\n",
              " 'A1G5UODTVW13MM': Timestamp('2019-05-06 12:46:46'),\n",
              " 'A7ERZELTAMWL5': Timestamp('2019-05-06 13:03:06'),\n",
              " 'AFMH601P0QVUK': Timestamp('2019-05-06 11:15:25'),\n",
              " 'A2VYPWRZRKYE2A': Timestamp('2019-05-06 11:46:00'),\n",
              " 'A3BLJ6QSDTZC9U': Timestamp('2019-05-06 11:08:18'),\n",
              " 'ADKDC0IXTYCIJ': Timestamp('2019-05-06 11:55:34'),\n",
              " 'A3AD3D4PZX4QCB': Timestamp('2019-05-06 11:10:40'),\n",
              " 'A1NAWLZ2HOJZPB': Timestamp('2019-05-06 14:24:23'),\n",
              " 'A2WINYCSL7HZEC': Timestamp('2019-05-06 11:10:36'),\n",
              " 'A1BNEJ2Q76JNF3': Timestamp('2019-05-06 13:39:45'),\n",
              " 'AH7I3K3OJKA5L': Timestamp('2019-05-06 11:25:55'),\n",
              " 'A2AOY2XTOICBMK': Timestamp('2019-05-06 15:00:27'),\n",
              " 'A1QX1YDOAN4LNA': Timestamp('2019-05-06 11:12:32'),\n",
              " 'AJ86CAZX0QCE9': Timestamp('2019-05-06 16:26:28'),\n",
              " 'A3SLXZURCF9O67': Timestamp('2019-05-06 16:59:55'),\n",
              " 'A2O7YJDVLPCWOK': Timestamp('2019-05-06 15:52:31'),\n",
              " 'A32YRYS1OSFVO3': Timestamp('2019-05-06 11:23:15'),\n",
              " 'ACID7NKW5A8QC': Timestamp('2019-05-06 11:42:54'),\n",
              " 'A3NWQ0535HAXUD': Timestamp('2019-05-06 11:10:16'),\n",
              " 'A1286MJRXBW4QP': Timestamp('2019-05-06 12:17:17'),\n",
              " 'A3TEVNU2YYO1VH': Timestamp('2019-05-06 13:18:04'),\n",
              " 'A38DXFI1TZA295': Timestamp('2019-05-06 18:04:54'),\n",
              " 'AXRLKDISA8LR3': Timestamp('2019-05-06 12:06:42'),\n",
              " 'A2346ZKALGO10B': Timestamp('2019-05-06 15:58:52'),\n",
              " 'A1E8PIR82KIJEP': Timestamp('2019-05-06 13:36:02'),\n",
              " 'A2VJAAYE13IXNQ': Timestamp('2019-05-06 11:42:43'),\n",
              " 'A1S88VQY8G8CNC': Timestamp('2019-05-06 13:39:05')}"
            ]
          },
          "metadata": {}
        }
      ],
      "execution_count": 6,
      "metadata": {
        "collapsed": false,
        "outputHidden": false,
        "inputHidden": false
      }
    },
    {
      "cell_type": "code",
      "source": [
        "points = []\n",
        "points_per_worker = defaultdict(int)\n",
        "for worker_id, response in zip(heatmap_df['WorkerId'], heatmap_df['Answer.response']):\n",
        "    response = json.loads(response)\n",
        "    for click in response:\n",
        "        points.append((round(click['x']), round(click['y']), click['timestamp'], worker_id))\n",
        "    points_per_worker[worker_id] += len(response)\n",
        "        \n",
        "points.sort(key=lambda x: x[2])"
      ],
      "outputs": [],
      "execution_count": 23,
      "metadata": {
        "collapsed": false,
        "outputHidden": false,
        "inputHidden": false
      }
    },
    {
      "cell_type": "code",
      "source": [
        "# len(heatmap_df['WorkerId'].value_counts())"
      ],
      "outputs": [],
      "execution_count": 8,
      "metadata": {
        "collapsed": false,
        "outputHidden": false,
        "inputHidden": false
      }
    },
    {
      "cell_type": "code",
      "source": [
        "sorted(points_per_worker.items(), key=lambda x: worker_submittime[x[0]])"
      ],
      "outputs": [
        {
          "output_type": "execute_result",
          "execution_count": 24,
          "data": {
            "text/plain": [
              "[('A2QUXO9OJY69QM', 20),\n",
              " ('A3BLJ6QSDTZC9U', 12),\n",
              " ('A1MXW5CZIN62BU', 17),\n",
              " ('A3NZAEOHAO5LT6', 10),\n",
              " ('A2KLT3Z3UUJCQV', 10),\n",
              " ('A3IX2J5AVF3LRG', 10),\n",
              " ('AIN7LSGBTD8HF', 10),\n",
              " ('A2UIRQTM2V9F7V', 11),\n",
              " ('A35X2QXIS7N1W1', 10),\n",
              " ('A23954R5J40QR0', 10),\n",
              " ('A3NWQ0535HAXUD', 10),\n",
              " ('A2WINYCSL7HZEC', 22),\n",
              " ('A3AD3D4PZX4QCB', 28),\n",
              " ('A1EGQAMPW9N5FT', 10),\n",
              " ('A8PJHNOLEDTZI', 32),\n",
              " ('A1TLKBW8KT7L6F', 10),\n",
              " ('A35N8ILHISO4RW', 10),\n",
              " ('A1QX1YDOAN4LNA', 10),\n",
              " ('A29KTWZQDUOLR9', 23),\n",
              " ('APZQEJ9KPIZOC', 10),\n",
              " ('ANQF0LHVK1236', 15),\n",
              " ('A2NGVPAXDPI41B', 10),\n",
              " ('A2UX1I209LML50', 10),\n",
              " ('A1BZNPQ0H7ZSER', 10),\n",
              " ('A3TMU2RBQ3Y7F6', 11),\n",
              " ('A2ADZEAP130MI2', 17),\n",
              " ('AFMH601P0QVUK', 15),\n",
              " ('AIYRSCNQ8I2QN', 27),\n",
              " ('A2Z1GI3BKVQOKR', 10),\n",
              " ('AOW5IZPNM79WW', 20),\n",
              " ('A349TSPKFHIWE1', 12),\n",
              " ('A32YRYS1OSFVO3', 10),\n",
              " ('A1NVQWRO6FJDBI', 10),\n",
              " ('AH7I3K3OJKA5L', 10),\n",
              " ('A1OD9OA9B34FL', 13),\n",
              " ('AMAHA0ZFX82VZ', 22),\n",
              " ('AWU522IJMK5EB', 10),\n",
              " ('A2TFCGGXOTX5YC', 16),\n",
              " ('A1LUZ1LUPUWUIL', 17),\n",
              " ('A3MW1FSUZ4MMGE', 10),\n",
              " ('A2VJAAYE13IXNQ', 10),\n",
              " ('ACID7NKW5A8QC', 10),\n",
              " ('A2VYPWRZRKYE2A', 13),\n",
              " ('A1YQYQRX5YFNJW', 11),\n",
              " ('A35C0II2FFV18S', 12),\n",
              " ('A2HR7ZIX42FEPG', 11),\n",
              " ('A1ANSFI5L7SUUH', 10),\n",
              " ('ADKDC0IXTYCIJ', 10),\n",
              " ('AD99N8AB266T7', 11),\n",
              " ('A26HH5XUH214F7', 34),\n",
              " ('ABVM2KJ7CRNZ0', 10),\n",
              " ('A1ESO3NFQXHF32', 10),\n",
              " ('AXRLKDISA8LR3', 10),\n",
              " ('A3O1LQCBNGXL7P', 10),\n",
              " ('A1286MJRXBW4QP', 10),\n",
              " ('A2IPLNZ9SMN8MK', 10),\n",
              " ('A3RAL81XKTKNMS', 10),\n",
              " ('AEJKD2E3MQKW5', 10),\n",
              " ('A2TEF5K1UBKZ2C', 10),\n",
              " ('A337MKRWW1YJSD', 16),\n",
              " ('A3PIHDC8LXVQ4H', 10),\n",
              " ('A1G5UODTVW13MM', 10),\n",
              " ('A7ERZELTAMWL5', 10),\n",
              " ('A3TEVNU2YYO1VH', 11),\n",
              " ('A3C0Z2U1VXFOJN', 11),\n",
              " ('A1EVKV4NXCYN5Z', 10),\n",
              " ('A3RN5GD583FY4K', 10),\n",
              " ('A2637HO77XFWQI', 17),\n",
              " ('A1SUUTWO9RWT4F', 10),\n",
              " ('A1E8PIR82KIJEP', 10),\n",
              " ('A1S88VQY8G8CNC', 10),\n",
              " ('A1BNEJ2Q76JNF3', 25),\n",
              " ('AHBJPKHFURJ3I', 10),\n",
              " ('A12OPH1K545YJW', 10),\n",
              " ('A1F73T5YAJ9J9', 10),\n",
              " ('A1FG2G9TZSDN', 10),\n",
              " ('A2O5769QZUW7S', 14),\n",
              " ('A3SHFOPG16PGNX', 10),\n",
              " ('A153IWW5M88F18', 10),\n",
              " ('A10S5LDYYYB496', 10),\n",
              " ('A1NAWLZ2HOJZPB', 10),\n",
              " ('ABN9IUIM1YA7Y', 10),\n",
              " ('A2AOY2XTOICBMK', 13),\n",
              " ('A1LXZ36RV89PSH', 12),\n",
              " ('A3PSIT0A7OU2FL', 10),\n",
              " ('A2O7YJDVLPCWOK', 25),\n",
              " ('A3UNY9FSBWUFRX', 10),\n",
              " ('A2346ZKALGO10B', 10),\n",
              " ('A2U376MDCLSPOE', 12),\n",
              " ('AJ86CAZX0QCE9', 17),\n",
              " ('AZVHLSUNF4YRH', 10),\n",
              " ('A1B14CS9DW7008', 10),\n",
              " ('A3SLXZURCF9O67', 10),\n",
              " ('A3BP890CXV4UMN', 10),\n",
              " ('A3PR49TI746YMM', 10),\n",
              " ('A38DXFI1TZA295', 10),\n",
              " ('A1JNHHJGD0ZG1E', 12),\n",
              " ('A1KVE1E8ZON2F7', 10),\n",
              " ('A3B0AB2C9SIHN', 11),\n",
              " ('A1CB1KFUN5OQVY', 10)]"
            ]
          },
          "metadata": {}
        }
      ],
      "execution_count": 24,
      "metadata": {
        "collapsed": false,
        "outputHidden": false,
        "inputHidden": false
      }
    },
    {
      "cell_type": "code",
      "source": [
        "pd.Series(list(points_per_worker.values())).describe()"
      ],
      "outputs": [
        {
          "output_type": "execute_result",
          "execution_count": 10,
          "data": {
            "text/plain": [
              "count    100.000000\n",
              "mean      12.580000\n",
              "std        5.081517\n",
              "min       10.000000\n",
              "25%       10.000000\n",
              "50%       10.000000\n",
              "75%       12.000000\n",
              "max       34.000000\n",
              "dtype: float64"
            ]
          },
          "metadata": {}
        }
      ],
      "execution_count": 10,
      "metadata": {
        "collapsed": false,
        "outputHidden": false,
        "inputHidden": false
      }
    },
    {
      "cell_type": "code",
      "source": [
        "heatmap_df['WorkerId'].value_counts()"
      ],
      "outputs": [
        {
          "output_type": "execute_result",
          "execution_count": 11,
          "data": {
            "text/plain": [
              "A1SUUTWO9RWT4F    1\n",
              "A2346ZKALGO10B    1\n",
              "A349TSPKFHIWE1    1\n",
              "AXRLKDISA8LR3     1\n",
              "A1QX1YDOAN4LNA    1\n",
              "A1BZNPQ0H7ZSER    1\n",
              "A2WINYCSL7HZEC    1\n",
              "AH7I3K3OJKA5L     1\n",
              "A1286MJRXBW4QP    1\n",
              "AFMH601P0QVUK     1\n",
              "A1NAWLZ2HOJZPB    1\n",
              "A1MXW5CZIN62BU    1\n",
              "A3C0Z2U1VXFOJN    1\n",
              "A3NWQ0535HAXUD    1\n",
              "A1LXZ36RV89PSH    1\n",
              "A8PJHNOLEDTZI     1\n",
              "A2637HO77XFWQI    1\n",
              "A337MKRWW1YJSD    1\n",
              "A2NGVPAXDPI41B    1\n",
              "ABVM2KJ7CRNZ0     1\n",
              "A1CB1KFUN5OQVY    1\n",
              "A1KVE1E8ZON2F7    1\n",
              "A3TMU2RBQ3Y7F6    1\n",
              "A2HR7ZIX42FEPG    1\n",
              "ABN9IUIM1YA7Y     1\n",
              "A1ANSFI5L7SUUH    1\n",
              "A10S5LDYYYB496    1\n",
              "A3RAL81XKTKNMS    1\n",
              "A3BLJ6QSDTZC9U    1\n",
              "A153IWW5M88F18    1\n",
              "                 ..\n",
              "A1G5UODTVW13MM    1\n",
              "A3NZAEOHAO5LT6    1\n",
              "AZVHLSUNF4YRH     1\n",
              "AJ86CAZX0QCE9     1\n",
              "A1F73T5YAJ9J9     1\n",
              "AIN7LSGBTD8HF     1\n",
              "ADKDC0IXTYCIJ     1\n",
              "A1FG2G9TZSDN      1\n",
              "A3SLXZURCF9O67    1\n",
              "APZQEJ9KPIZOC     1\n",
              "A3PIHDC8LXVQ4H    1\n",
              "A2UIRQTM2V9F7V    1\n",
              "ACID7NKW5A8QC     1\n",
              "A1BNEJ2Q76JNF3    1\n",
              "A35X2QXIS7N1W1    1\n",
              "A3PSIT0A7OU2FL    1\n",
              "A3SHFOPG16PGNX    1\n",
              "A3PR49TI746YMM    1\n",
              "A29KTWZQDUOLR9    1\n",
              "A1YQYQRX5YFNJW    1\n",
              "A3B0AB2C9SIHN     1\n",
              "A1EVKV4NXCYN5Z    1\n",
              "A2O7YJDVLPCWOK    1\n",
              "A3MW1FSUZ4MMGE    1\n",
              "A2ADZEAP130MI2    1\n",
              "A7ERZELTAMWL5     1\n",
              "A2QUXO9OJY69QM    1\n",
              "A1S88VQY8G8CNC    1\n",
              "AMAHA0ZFX82VZ     1\n",
              "AWU522IJMK5EB     1\n",
              "Name: WorkerId, Length: 100, dtype: int64"
            ]
          },
          "metadata": {}
        }
      ],
      "execution_count": 11,
      "metadata": {
        "collapsed": false,
        "outputHidden": false,
        "inputHidden": false
      }
    },
    {
      "cell_type": "code",
      "source": [],
      "outputs": [],
      "execution_count": 13,
      "metadata": {
        "collapsed": false,
        "outputHidden": false,
        "inputHidden": false
      }
    },
    {
      "cell_type": "code",
      "source": [
        "xs, ys, _, _ = zip(*points)\n",
        "print(pd.Series(list(xs)).describe())\n",
        "print(pd.Series(list(ys)).describe())"
      ],
      "outputs": [
        {
          "output_type": "stream",
          "name": "stdout",
          "text": [
            "count    1258.000000\n",
            "mean      288.201908\n",
            "std        85.764180\n",
            "min        94.000000\n",
            "25%       222.000000\n",
            "50%       284.000000\n",
            "75%       354.000000\n",
            "max       577.000000\n",
            "dtype: float64\n",
            "count    1258.000000\n",
            "mean      220.500000\n",
            "std        48.692143\n",
            "min        63.000000\n",
            "25%       199.000000\n",
            "50%       223.000000\n",
            "75%       247.000000\n",
            "max       406.000000\n",
            "dtype: float64\n"
          ]
        }
      ],
      "execution_count": 25,
      "metadata": {
        "collapsed": false,
        "outputHidden": false,
        "inputHidden": false
      }
    },
    {
      "cell_type": "code",
      "source": [
        "# img_data = np.ones((600, 477))\n",
        "# for x, y in points:\n",
        "#     img_data[x, y] = 0"
      ],
      "outputs": [],
      "execution_count": 16,
      "metadata": {
        "collapsed": false,
        "outputHidden": false,
        "inputHidden": false
      }
    },
    {
      "cell_type": "code",
      "source": [
        "# xs, ys = zip(*points)\n",
        "# print(min(xs), max(xs), min(ys), max(ys))"
      ],
      "outputs": [],
      "execution_count": 17,
      "metadata": {
        "collapsed": false,
        "outputHidden": false,
        "inputHidden": false
      }
    },
    {
      "cell_type": "code",
      "source": [
        "import seaborn as sns"
      ],
      "outputs": [],
      "execution_count": 18,
      "metadata": {
        "collapsed": false,
        "outputHidden": false,
        "inputHidden": false
      }
    },
    {
      "cell_type": "code",
      "source": [
        "work_time_in_seconds = heatmap_df[heatmap_df['WorkTimeInSeconds'] < 1500]['WorkTimeInSeconds']\n",
        "\nsns.distplot(work_time_in_seconds, bins=12, hist=True, kde=False)"
      ],
      "outputs": [
        {
          "output_type": "execute_result",
          "execution_count": 28,
          "data": {
            "text/plain": [
              "<matplotlib.axes._subplots.AxesSubplot at 0x1a1f9b67f0>"
            ]
          },
          "metadata": {}
        },
        {
          "output_type": "display_data",
          "data": {
            "text/plain": [
              "<Figure size 432x288 with 1 Axes>"
            ],
            "image/png": "[encoded data removed]"
          },
          "metadata": {
            "needs_background": "light"
          }
        }
      ],
      "execution_count": 28,
      "metadata": {
        "collapsed": false,
        "outputHidden": false,
        "inputHidden": false
      }
    },
    {
      "cell_type": "code",
      "source": [
        "sns.distplot(xs, bins=100, hist=True, kde=False, axlabel='x-positions of clicks')"
      ],
      "outputs": [
        {
          "output_type": "execute_result",
          "execution_count": 29,
          "data": {
            "text/plain": [
              "<matplotlib.axes._subplots.AxesSubplot at 0x1a1f9b7ba8>"
            ]
          },
          "metadata": {}
        },
        {
          "output_type": "display_data",
          "data": {
            "text/plain": [
              "<Figure size 432x288 with 1 Axes>"
            ],
            "image/png": "[encoded data removed]"
          },
          "metadata": {
            "needs_background": "light"
          }
        }
      ],
      "execution_count": 29,
      "metadata": {
        "collapsed": false,
        "outputHidden": false,
        "inputHidden": false
      }
    },
    {
      "cell_type": "code",
      "source": [
        "sns.distplot(ys, bins=100, hist=True, kde=False, axlabel='y-positions of clicks')"
      ],
      "outputs": [
        {
          "output_type": "execute_result",
          "execution_count": 30,
          "data": {
            "text/plain": [
              "<matplotlib.axes._subplots.AxesSubplot at 0x1a1fbe60f0>"
            ]
          },
          "metadata": {}
        },
        {
          "output_type": "display_data",
          "data": {
            "text/plain": [
              "<Figure size 432x288 with 1 Axes>"
            ],
            "image/png": "[encoded data removed]"
          },
          "metadata": {
            "needs_background": "light"
          }
        }
      ],
      "execution_count": 30,
      "metadata": {
        "collapsed": false,
        "outputHidden": false,
        "inputHidden": false
      }
    },
    {
      "cell_type": "code",
      "source": [
        "heatmap_df['WorkTimeInSeconds']"
      ],
      "outputs": [
        {
          "output_type": "execute_result",
          "execution_count": 27,
          "data": {
            "text/plain": [
              "0      23\n",
              "1      33\n",
              "2      30\n",
              "3     183\n",
              "4      49\n",
              "5      28\n",
              "6      28\n",
              "7      26\n",
              "8      28\n",
              "9      16\n",
              "10     30\n",
              "11     38\n",
              "12     28\n",
              "13     51\n",
              "14     14\n",
              "15     47\n",
              "16     25\n",
              "17     25\n",
              "18     19\n",
              "19     12\n",
              "20     12\n",
              "21     22\n",
              "22     31\n",
              "23     47\n",
              "24     37\n",
              "25     18\n",
              "26     26\n",
              "27     18\n",
              "28     49\n",
              "29     29\n",
              "     ... \n",
              "70     27\n",
              "71     26\n",
              "72     65\n",
              "73     23\n",
              "74     24\n",
              "75     94\n",
              "76     30\n",
              "77     26\n",
              "78     35\n",
              "79     44\n",
              "80      9\n",
              "81     52\n",
              "82     37\n",
              "83     22\n",
              "84     32\n",
              "85     24\n",
              "86     32\n",
              "87     28\n",
              "88     73\n",
              "89     27\n",
              "90     25\n",
              "91     11\n",
              "92     19\n",
              "93     33\n",
              "94    126\n",
              "95     63\n",
              "96     27\n",
              "97     14\n",
              "98     52\n",
              "99     39\n",
              "Name: WorkTimeInSeconds, Length: 100, dtype: int64"
            ]
          },
          "metadata": {}
        }
      ],
      "execution_count": 27,
      "metadata": {
        "collapsed": false,
        "outputHidden": false,
        "inputHidden": false
      }
    },
    {
      "cell_type": "code",
      "source": [],
      "outputs": [],
      "execution_count": 23,
      "metadata": {
        "collapsed": false,
        "outputHidden": false,
        "inputHidden": false
      }
    },
    {
      "cell_type": "code",
      "source": [],
      "outputs": [],
      "execution_count": null,
      "metadata": {
        "collapsed": false,
        "outputHidden": false,
        "inputHidden": false
      }
    }
  ],
  "metadata": {
    "kernel_info": {
      "name": "python3"
    },
    "language_info": {
      "name": "python",
      "version": "3.7.2",
      "mimetype": "text/x-python",
      "codemirror_mode": {
        "name": "ipython",
        "version": 3
      },
      "pygments_lexer": "ipython3",
      "nbconvert_exporter": "python",
      "file_extension": ".py"
    },
    "kernelspec": {
      "name": "python3",
      "language": "python",
      "display_name": "Python 3"
    },
    "nteract": {
      "version": "0.12.3"
    }
  },
  "nbformat": 4,
  "nbformat_minor": 4
}