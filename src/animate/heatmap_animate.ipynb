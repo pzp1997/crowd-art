{
  "cells": [
    {
      "cell_type": "code",
      "source": [
        "import pandas as pd\n",
        "import json\n",
        "import numpy as np\n",
        "from collections import defaultdict\n",
        "# import imageio"
      ],
      "outputs": [],
      "execution_count": 21,
      "metadata": {
        "collapsed": false,
        "outputHidden": false,
        "inputHidden": false
      }
    },
    {
      "cell_type": "code",
      "source": [
        "heatmap_df = pd.read_csv('heatmap_peers.csv')"
      ],
      "outputs": [],
      "execution_count": 22,
      "metadata": {
        "collapsed": false,
        "outputHidden": false,
        "inputHidden": false
      }
    },
    {
      "cell_type": "code",
      "source": [
        "heatmap_df['SubmitTime'] = pd.to_datetime(heatmap_df['SubmitTime'])\n",
        "heatmap_df[['WorkerId', 'SubmitTime']].sort_values('SubmitTime')"
      ],
      "outputs": [
        {
          "output_type": "stream",
          "name": "stderr",
          "text": [
            "/usr/local/miniconda3/envs/cis530_conda/lib/python3.7/site-packages/dateutil/parser/_parser.py:1204: UnknownTimezoneWarning: tzname PDT identified but not understood.  Pass `tzinfos` argument in order to correctly return a timezone-aware datetime.  In a future version, this will raise an exception.\n",
            "  category=UnknownTimezoneWarning)\n"
          ]
        },
        {
          "output_type": "execute_result",
          "execution_count": 23,
          "data": {
            "text/plain": [
              "          WorkerId          SubmitTime\n",
              "1   A32TTE4XXN6MQZ 2019-04-21 10:53:00\n",
              "26   APICU54PD3JZF 2019-04-21 18:15:20\n",
              "21  A1HTSCH5NYPS4R 2019-04-22 10:34:40\n",
              "23  A32YP4ANU466LT 2019-04-22 19:40:17\n",
              "5   A1P9T1A0OLRNY3 2019-04-23 12:20:52\n",
              "18   AAZY70DQJ5BFE 2019-04-23 12:31:23\n",
              "2    AY0INTNXKC6ZO 2019-04-23 12:53:15\n",
              "17  A2DIGKVLJWN955 2019-04-23 13:58:16\n",
              "12   AVR45JLAQN5ZC 2019-04-23 19:33:05\n",
              "15   ALPWT2JWPLXA1 2019-04-23 20:12:44\n",
              "19   APX5J4BSY8X98 2019-04-23 22:22:45\n",
              "20   AHJ6UEG2YC0Q3 2019-04-24 11:16:26\n",
              "24  A2N74CHUQ5T60G 2019-04-24 16:43:31\n",
              "10   A9UIN25Y2HNGP 2019-04-24 18:19:49\n",
              "22  A23441R746K5OU 2019-04-24 23:17:37\n",
              "25  A3MAF5W7IGJTQS 2019-04-25 00:18:42\n",
              "8   A2VH5M7RLI6708 2019-04-25 04:49:41\n",
              "7   A3O8K08MXAW5C6 2019-04-25 08:28:05\n",
              "28  A21CNDWV70DK3G 2019-04-25 09:02:18\n",
              "16  A2Y5XC6F1BYXS3 2019-04-25 09:17:45\n",
              "11   AAHT5IXE5NHA0 2019-04-25 09:39:42\n",
              "3   A28RPWZS3IPTRM 2019-04-25 10:05:04\n",
              "6   A1P97PT7OUQHU4 2019-04-25 10:07:09\n",
              "27  A3907LDKHAP28P 2019-04-25 12:20:55\n",
              "13   AG1XA7PPOEY4Z 2019-04-25 13:04:43\n",
              "9   A30VAVBAUXE301 2019-04-25 13:37:03\n",
              "14   A5HHF7CXK8YHU 2019-04-25 15:07:21\n",
              "0   A1YXUJF77LEX1J 2019-04-25 15:59:16\n",
              "4   A1AMWY5239KF3Y 2019-04-25 17:00:37"
            ],
            "text/html": [
              "<div>\n",
              "<style scoped>\n",
              "    .dataframe tbody tr th:only-of-type {\n",
              "        vertical-align: middle;\n",
              "    }\n",
              "\n",
              "    .dataframe tbody tr th {\n",
              "        vertical-align: top;\n",
              "    }\n",
              "\n",
              "    .dataframe thead th {\n",
              "        text-align: right;\n",
              "    }\n",
              "</style>\n",
              "<table border=\"1\" class=\"dataframe\">\n",
              "  <thead>\n",
              "    <tr style=\"text-align: right;\">\n",
              "      <th></th>\n",
              "      <th>WorkerId</th>\n",
              "      <th>SubmitTime</th>\n",
              "    </tr>\n",
              "  </thead>\n",
              "  <tbody>\n",
              "    <tr>\n",
              "      <th>1</th>\n",
              "      <td>A32TTE4XXN6MQZ</td>\n",
              "      <td>2019-04-21 10:53:00</td>\n",
              "    </tr>\n",
              "    <tr>\n",
              "      <th>26</th>\n",
              "      <td>APICU54PD3JZF</td>\n",
              "      <td>2019-04-21 18:15:20</td>\n",
              "    </tr>\n",
              "    <tr>\n",
              "      <th>21</th>\n",
              "      <td>A1HTSCH5NYPS4R</td>\n",
              "      <td>2019-04-22 10:34:40</td>\n",
              "    </tr>\n",
              "    <tr>\n",
              "      <th>23</th>\n",
              "      <td>A32YP4ANU466LT</td>\n",
              "      <td>2019-04-22 19:40:17</td>\n",
              "    </tr>\n",
              "    <tr>\n",
              "      <th>5</th>\n",
              "      <td>A1P9T1A0OLRNY3</td>\n",
              "      <td>2019-04-23 12:20:52</td>\n",
              "    </tr>\n",
              "    <tr>\n",
              "      <th>18</th>\n",
              "      <td>AAZY70DQJ5BFE</td>\n",
              "      <td>2019-04-23 12:31:23</td>\n",
              "    </tr>\n",
              "    <tr>\n",
              "      <th>2</th>\n",
              "      <td>AY0INTNXKC6ZO</td>\n",
              "      <td>2019-04-23 12:53:15</td>\n",
              "    </tr>\n",
              "    <tr>\n",
              "      <th>17</th>\n",
              "      <td>A2DIGKVLJWN955</td>\n",
              "      <td>2019-04-23 13:58:16</td>\n",
              "    </tr>\n",
              "    <tr>\n",
              "      <th>12</th>\n",
              "      <td>AVR45JLAQN5ZC</td>\n",
              "      <td>2019-04-23 19:33:05</td>\n",
              "    </tr>\n",
              "    <tr>\n",
              "      <th>15</th>\n",
              "      <td>ALPWT2JWPLXA1</td>\n",
              "      <td>2019-04-23 20:12:44</td>\n",
              "    </tr>\n",
              "    <tr>\n",
              "      <th>19</th>\n",
              "      <td>APX5J4BSY8X98</td>\n",
              "      <td>2019-04-23 22:22:45</td>\n",
              "    </tr>\n",
              "    <tr>\n",
              "      <th>20</th>\n",
              "      <td>AHJ6UEG2YC0Q3</td>\n",
              "      <td>2019-04-24 11:16:26</td>\n",
              "    </tr>\n",
              "    <tr>\n",
              "      <th>24</th>\n",
              "      <td>A2N74CHUQ5T60G</td>\n",
              "      <td>2019-04-24 16:43:31</td>\n",
              "    </tr>\n",
              "    <tr>\n",
              "      <th>10</th>\n",
              "      <td>A9UIN25Y2HNGP</td>\n",
              "      <td>2019-04-24 18:19:49</td>\n",
              "    </tr>\n",
              "    <tr>\n",
              "      <th>22</th>\n",
              "      <td>A23441R746K5OU</td>\n",
              "      <td>2019-04-24 23:17:37</td>\n",
              "    </tr>\n",
              "    <tr>\n",
              "      <th>25</th>\n",
              "      <td>A3MAF5W7IGJTQS</td>\n",
              "      <td>2019-04-25 00:18:42</td>\n",
              "    </tr>\n",
              "    <tr>\n",
              "      <th>8</th>\n",
              "      <td>A2VH5M7RLI6708</td>\n",
              "      <td>2019-04-25 04:49:41</td>\n",
              "    </tr>\n",
              "    <tr>\n",
              "      <th>7</th>\n",
              "      <td>A3O8K08MXAW5C6</td>\n",
              "      <td>2019-04-25 08:28:05</td>\n",
              "    </tr>\n",
              "    <tr>\n",
              "      <th>28</th>\n",
              "      <td>A21CNDWV70DK3G</td>\n",
              "      <td>2019-04-25 09:02:18</td>\n",
              "    </tr>\n",
              "    <tr>\n",
              "      <th>16</th>\n",
              "      <td>A2Y5XC6F1BYXS3</td>\n",
              "      <td>2019-04-25 09:17:45</td>\n",
              "    </tr>\n",
              "    <tr>\n",
              "      <th>11</th>\n",
              "      <td>AAHT5IXE5NHA0</td>\n",
              "      <td>2019-04-25 09:39:42</td>\n",
              "    </tr>\n",
              "    <tr>\n",
              "      <th>3</th>\n",
              "      <td>A28RPWZS3IPTRM</td>\n",
              "      <td>2019-04-25 10:05:04</td>\n",
              "    </tr>\n",
              "    <tr>\n",
              "      <th>6</th>\n",
              "      <td>A1P97PT7OUQHU4</td>\n",
              "      <td>2019-04-25 10:07:09</td>\n",
              "    </tr>\n",
              "    <tr>\n",
              "      <th>27</th>\n",
              "      <td>A3907LDKHAP28P</td>\n",
              "      <td>2019-04-25 12:20:55</td>\n",
              "    </tr>\n",
              "    <tr>\n",
              "      <th>13</th>\n",
              "      <td>AG1XA7PPOEY4Z</td>\n",
              "      <td>2019-04-25 13:04:43</td>\n",
              "    </tr>\n",
              "    <tr>\n",
              "      <th>9</th>\n",
              "      <td>A30VAVBAUXE301</td>\n",
              "      <td>2019-04-25 13:37:03</td>\n",
              "    </tr>\n",
              "    <tr>\n",
              "      <th>14</th>\n",
              "      <td>A5HHF7CXK8YHU</td>\n",
              "      <td>2019-04-25 15:07:21</td>\n",
              "    </tr>\n",
              "    <tr>\n",
              "      <th>0</th>\n",
              "      <td>A1YXUJF77LEX1J</td>\n",
              "      <td>2019-04-25 15:59:16</td>\n",
              "    </tr>\n",
              "    <tr>\n",
              "      <th>4</th>\n",
              "      <td>A1AMWY5239KF3Y</td>\n",
              "      <td>2019-04-25 17:00:37</td>\n",
              "    </tr>\n",
              "  </tbody>\n",
              "</table>\n",
              "</div>"
            ]
          },
          "metadata": {}
        }
      ],
      "execution_count": 23,
      "metadata": {
        "collapsed": false,
        "outputHidden": false,
        "inputHidden": false
      }
    },
    {
      "cell_type": "code",
      "source": [
        "heatmap_df['WorkTimeInSeconds'].describe()"
      ],
      "outputs": [
        {
          "output_type": "execute_result",
          "execution_count": 24,
          "data": {
            "text/plain": [
              "count     29.000000\n",
              "mean      36.206897\n",
              "std       27.983898\n",
              "min        7.000000\n",
              "25%       12.000000\n",
              "50%       28.000000\n",
              "75%       49.000000\n",
              "max      117.000000\n",
              "Name: WorkTimeInSeconds, dtype: float64"
            ]
          },
          "metadata": {}
        }
      ],
      "execution_count": 24,
      "metadata": {
        "collapsed": false,
        "outputHidden": false,
        "inputHidden": false
      }
    },
    {
      "cell_type": "code",
      "source": [
        "worker_submittime = {}\n",
        "for _, row in heatmap_df[['WorkerId', 'SubmitTime']].iterrows():\n",
        "    worker_submittime[row['WorkerId']] = row['SubmitTime']\n",
        "worker_submittime"
      ],
      "outputs": [
        {
          "output_type": "execute_result",
          "execution_count": 25,
          "data": {
            "text/plain": [
              "{'A1YXUJF77LEX1J': Timestamp('2019-04-25 15:59:16'),\n",
              " 'A32TTE4XXN6MQZ': Timestamp('2019-04-21 10:53:00'),\n",
              " 'AY0INTNXKC6ZO': Timestamp('2019-04-23 12:53:15'),\n",
              " 'A28RPWZS3IPTRM': Timestamp('2019-04-25 10:05:04'),\n",
              " 'A1AMWY5239KF3Y': Timestamp('2019-04-25 17:00:37'),\n",
              " 'A1P9T1A0OLRNY3': Timestamp('2019-04-23 12:20:52'),\n",
              " 'A1P97PT7OUQHU4': Timestamp('2019-04-25 10:07:09'),\n",
              " 'A3O8K08MXAW5C6': Timestamp('2019-04-25 08:28:05'),\n",
              " 'A2VH5M7RLI6708': Timestamp('2019-04-25 04:49:41'),\n",
              " 'A30VAVBAUXE301': Timestamp('2019-04-25 13:37:03'),\n",
              " 'A9UIN25Y2HNGP': Timestamp('2019-04-24 18:19:49'),\n",
              " 'AAHT5IXE5NHA0': Timestamp('2019-04-25 09:39:42'),\n",
              " 'AVR45JLAQN5ZC': Timestamp('2019-04-23 19:33:05'),\n",
              " 'AG1XA7PPOEY4Z': Timestamp('2019-04-25 13:04:43'),\n",
              " 'A5HHF7CXK8YHU': Timestamp('2019-04-25 15:07:21'),\n",
              " 'ALPWT2JWPLXA1': Timestamp('2019-04-23 20:12:44'),\n",
              " 'A2Y5XC6F1BYXS3': Timestamp('2019-04-25 09:17:45'),\n",
              " 'A2DIGKVLJWN955': Timestamp('2019-04-23 13:58:16'),\n",
              " 'AAZY70DQJ5BFE': Timestamp('2019-04-23 12:31:23'),\n",
              " 'APX5J4BSY8X98': Timestamp('2019-04-23 22:22:45'),\n",
              " 'AHJ6UEG2YC0Q3': Timestamp('2019-04-24 11:16:26'),\n",
              " 'A1HTSCH5NYPS4R': Timestamp('2019-04-22 10:34:40'),\n",
              " 'A23441R746K5OU': Timestamp('2019-04-24 23:17:37'),\n",
              " 'A32YP4ANU466LT': Timestamp('2019-04-22 19:40:17'),\n",
              " 'A2N74CHUQ5T60G': Timestamp('2019-04-24 16:43:31'),\n",
              " 'A3MAF5W7IGJTQS': Timestamp('2019-04-25 00:18:42'),\n",
              " 'APICU54PD3JZF': Timestamp('2019-04-21 18:15:20'),\n",
              " 'A3907LDKHAP28P': Timestamp('2019-04-25 12:20:55'),\n",
              " 'A21CNDWV70DK3G': Timestamp('2019-04-25 09:02:18')}"
            ]
          },
          "metadata": {}
        }
      ],
      "execution_count": 25,
      "metadata": {
        "collapsed": false,
        "outputHidden": false,
        "inputHidden": false
      }
    },
    {
      "cell_type": "code",
      "source": [
        "points = []\n",
        "points_per_worker = defaultdict(int)\n",
        "for worker_id, response in zip(heatmap_df['WorkerId'], heatmap_df['Answer.response']):\n",
        "    response = json.loads(response)\n",
        "    for click in response:\n",
        "        points.append((round(click['x']), round(click['y']), click['timestamp'], worker_id))\n",
        "    points_per_worker[worker_id] += len(response)\n",
        "        \n",
        "points.sort(key=lambda x: x[2])"
      ],
      "outputs": [],
      "execution_count": 26,
      "metadata": {
        "collapsed": false,
        "outputHidden": false,
        "inputHidden": false
      }
    },
    {
      "cell_type": "code",
      "source": [
        "# len(heatmap_df['WorkerId'].value_counts())"
      ],
      "outputs": [],
      "execution_count": 27,
      "metadata": {
        "collapsed": false,
        "outputHidden": false,
        "inputHidden": false
      }
    },
    {
      "cell_type": "code",
      "source": [
        "sorted(points_per_worker.items(), key=lambda x: worker_submittime[x[0]])"
      ],
      "outputs": [
        {
          "output_type": "execute_result",
          "execution_count": 28,
          "data": {
            "text/plain": [
              "[('A32TTE4XXN6MQZ', 56),\n",
              " ('APICU54PD3JZF', 150),\n",
              " ('A1HTSCH5NYPS4R', 75),\n",
              " ('A32YP4ANU466LT', 127),\n",
              " ('A1P9T1A0OLRNY3', 11),\n",
              " ('AAZY70DQJ5BFE', 14),\n",
              " ('AY0INTNXKC6ZO', 10),\n",
              " ('A2DIGKVLJWN955', 10),\n",
              " ('AVR45JLAQN5ZC', 176),\n",
              " ('ALPWT2JWPLXA1', 48),\n",
              " ('APX5J4BSY8X98', 11),\n",
              " ('AHJ6UEG2YC0Q3', 10),\n",
              " ('A2N74CHUQ5T60G', 20),\n",
              " ('A9UIN25Y2HNGP', 11),\n",
              " ('A23441R746K5OU', 13),\n",
              " ('A3MAF5W7IGJTQS', 11),\n",
              " ('A2VH5M7RLI6708', 10),\n",
              " ('A3O8K08MXAW5C6', 33),\n",
              " ('A21CNDWV70DK3G', 10),\n",
              " ('A2Y5XC6F1BYXS3', 11),\n",
              " ('AAHT5IXE5NHA0', 21),\n",
              " ('A28RPWZS3IPTRM', 21),\n",
              " ('A1P97PT7OUQHU4', 10),\n",
              " ('A3907LDKHAP28P', 10),\n",
              " ('AG1XA7PPOEY4Z', 10),\n",
              " ('A30VAVBAUXE301', 40),\n",
              " ('A5HHF7CXK8YHU', 69),\n",
              " ('A1YXUJF77LEX1J', 25),\n",
              " ('A1AMWY5239KF3Y', 10)]"
            ]
          },
          "metadata": {}
        }
      ],
      "execution_count": 28,
      "metadata": {
        "collapsed": false,
        "outputHidden": false,
        "inputHidden": false
      }
    },
    {
      "cell_type": "code",
      "source": [
        "pd.Series(list(points_per_worker.values())).describe()"
      ],
      "outputs": [
        {
          "output_type": "execute_result",
          "execution_count": 29,
          "data": {
            "text/plain": [
              "count     29.000000\n",
              "mean      35.620690\n",
              "std       44.360869\n",
              "min       10.000000\n",
              "25%       10.000000\n",
              "50%       13.000000\n",
              "75%       40.000000\n",
              "max      176.000000\n",
              "dtype: float64"
            ]
          },
          "metadata": {}
        }
      ],
      "execution_count": 29,
      "metadata": {
        "collapsed": false,
        "outputHidden": false,
        "inputHidden": false
      }
    },
    {
      "cell_type": "code",
      "source": [
        "heatmap_df['WorkerId'].value_counts()"
      ],
      "outputs": [
        {
          "output_type": "execute_result",
          "execution_count": 30,
          "data": {
            "text/plain": [
              "A2N74CHUQ5T60G    1\n",
              "A1AMWY5239KF3Y    1\n",
              "A1HTSCH5NYPS4R    1\n",
              "APICU54PD3JZF     1\n",
              "A3907LDKHAP28P    1\n",
              "AAZY70DQJ5BFE     1\n",
              "A2Y5XC6F1BYXS3    1\n",
              "A2VH5M7RLI6708    1\n",
              "A5HHF7CXK8YHU     1\n",
              "APX5J4BSY8X98     1\n",
              "A23441R746K5OU    1\n",
              "A3O8K08MXAW5C6    1\n",
              "AAHT5IXE5NHA0     1\n",
              "A30VAVBAUXE301    1\n",
              "AG1XA7PPOEY4Z     1\n",
              "A1P97PT7OUQHU4    1\n",
              "ALPWT2JWPLXA1     1\n",
              "A1P9T1A0OLRNY3    1\n",
              "A21CNDWV70DK3G    1\n",
              "A32TTE4XXN6MQZ    1\n",
              "A1YXUJF77LEX1J    1\n",
              "AHJ6UEG2YC0Q3     1\n",
              "A3MAF5W7IGJTQS    1\n",
              "AVR45JLAQN5ZC     1\n",
              "A28RPWZS3IPTRM    1\n",
              "A9UIN25Y2HNGP     1\n",
              "A2DIGKVLJWN955    1\n",
              "A32YP4ANU466LT    1\n",
              "AY0INTNXKC6ZO     1\n",
              "Name: WorkerId, dtype: int64"
            ]
          },
          "metadata": {}
        }
      ],
      "execution_count": 30,
      "metadata": {
        "collapsed": false,
        "outputHidden": false,
        "inputHidden": false
      }
    },
    {
      "cell_type": "code",
      "source": [
        "point"
      ],
      "outputs": [
        {
          "output_type": "error",
          "ename": "NameError",
          "evalue": "name 'point' is not defined",
          "traceback": [
            "\u001b[0;31m---------------------------------------------------------------------------\u001b[0m",
            "\u001b[0;31mNameError\u001b[0m                                 Traceback (most recent call last)",
            "\u001b[0;32m<ipython-input-31-6a7a3264e47e>\u001b[0m in \u001b[0;36m<module>\u001b[0;34m\u001b[0m\n\u001b[0;32m----> 1\u001b[0;31m \u001b[0mpoint\u001b[0m\u001b[0;34m\u001b[0m\u001b[0;34m\u001b[0m\u001b[0m\n\u001b[0m",
            "\u001b[0;31mNameError\u001b[0m: name 'point' is not defined"
          ]
        }
      ],
      "execution_count": 31,
      "metadata": {
        "collapsed": false,
        "outputHidden": false,
        "inputHidden": false
      }
    },
    {
      "cell_type": "code",
      "source": [
        "xs, ys, _, _ = zip(*points)\n",
        "print(pd.Series(list(xs)).describe())\n",
        "print(pd.Series(list(ys)).describe())"
      ],
      "outputs": [
        {
          "output_type": "stream",
          "name": "stdout",
          "text": [
            "count    1033.000000\n",
            "mean      288.824782\n",
            "std       103.675792\n",
            "min       104.000000\n",
            "25%       204.000000\n",
            "50%       273.000000\n",
            "75%       373.000000\n",
            "max       582.000000\n",
            "dtype: float64\n",
            "count    1033.000000\n",
            "mean      225.798645\n",
            "std        62.120180\n",
            "min        87.000000\n",
            "25%       189.000000\n",
            "50%       219.000000\n",
            "75%       264.000000\n",
            "max       387.000000\n",
            "dtype: float64\n"
          ]
        }
      ],
      "execution_count": 32,
      "metadata": {
        "collapsed": false,
        "outputHidden": false,
        "inputHidden": false
      }
    },
    {
      "cell_type": "code",
      "source": [
        "img_data = np.ones((600, 477))\n",
        "for x, y in points:\n",
        "    img_data[x, y] = 0"
      ],
      "outputs": [
        {
          "output_type": "error",
          "ename": "ValueError",
          "evalue": "too many values to unpack (expected 2)",
          "traceback": [
            "\u001b[0;31m---------------------------------------------------------------------------\u001b[0m",
            "\u001b[0;31mValueError\u001b[0m                                Traceback (most recent call last)",
            "\u001b[0;32m<ipython-input-33-9f635427814c>\u001b[0m in \u001b[0;36m<module>\u001b[0;34m\u001b[0m\n\u001b[1;32m      1\u001b[0m \u001b[0mimg_data\u001b[0m \u001b[0;34m=\u001b[0m \u001b[0mnp\u001b[0m\u001b[0;34m.\u001b[0m\u001b[0mones\u001b[0m\u001b[0;34m(\u001b[0m\u001b[0;34m(\u001b[0m\u001b[0;36m600\u001b[0m\u001b[0;34m,\u001b[0m \u001b[0;36m477\u001b[0m\u001b[0;34m)\u001b[0m\u001b[0;34m)\u001b[0m\u001b[0;34m\u001b[0m\u001b[0;34m\u001b[0m\u001b[0m\n\u001b[0;32m----> 2\u001b[0;31m \u001b[0;32mfor\u001b[0m \u001b[0mx\u001b[0m\u001b[0;34m,\u001b[0m \u001b[0my\u001b[0m \u001b[0;32min\u001b[0m \u001b[0mpoints\u001b[0m\u001b[0;34m:\u001b[0m\u001b[0;34m\u001b[0m\u001b[0;34m\u001b[0m\u001b[0m\n\u001b[0m\u001b[1;32m      3\u001b[0m     \u001b[0mimg_data\u001b[0m\u001b[0;34m[\u001b[0m\u001b[0mx\u001b[0m\u001b[0;34m,\u001b[0m \u001b[0my\u001b[0m\u001b[0;34m]\u001b[0m \u001b[0;34m=\u001b[0m \u001b[0;36m0\u001b[0m\u001b[0;34m\u001b[0m\u001b[0;34m\u001b[0m\u001b[0m\n",
            "\u001b[0;31mValueError\u001b[0m: too many values to unpack (expected 2)"
          ]
        }
      ],
      "execution_count": 33,
      "metadata": {
        "collapsed": false,
        "outputHidden": false,
        "inputHidden": false
      }
    },
    {
      "cell_type": "code",
      "source": [
        "# xs, ys = zip(*points)\n",
        "# print(min(xs), max(xs), min(ys), max(ys))"
      ],
      "outputs": [],
      "execution_count": 34,
      "metadata": {
        "collapsed": false,
        "outputHidden": false,
        "inputHidden": false
      }
    },
    {
      "cell_type": "code",
      "source": [
        "import seaborn as sns"
      ],
      "outputs": [],
      "execution_count": 35,
      "metadata": {
        "collapsed": false,
        "outputHidden": false,
        "inputHidden": false
      }
    },
    {
      "cell_type": "code",
      "source": [
        "sns.distplot(heatmap_df['WorkTimeInSeconds'], bins=12, hist=True, kde=False)"
      ],
      "outputs": [
        {
          "output_type": "execute_result",
          "execution_count": 52,
          "data": {
            "text/plain": [
              "<matplotlib.axes._subplots.AxesSubplot at 0x1a16d6ddd8>"
            ]
          },
          "metadata": {}
        },
        {
          "output_type": "display_data",
          "data": {
            "text/plain": [
              "<Figure size 432x288 with 1 Axes>"
            ],
            "image/png": "[encoded data removed]"
          },
          "metadata": {
            "needs_background": "light"
          }
        }
      ],
      "execution_count": 52,
      "metadata": {
        "collapsed": false,
        "outputHidden": false,
        "inputHidden": false
      }
    },
    {
      "cell_type": "code",
      "source": [
        "sns.distplot(xs, bins=100, hist=True, kde=False, axlabel='x-positions of clicks')"
      ],
      "outputs": [
        {
          "output_type": "display_data",
          "data": {
            "text/plain": [
              "<Figure size 432x288 with 1 Axes>"
            ],
            "image/png": "[encoded data removed]"
          },
          "metadata": {
            "needs_background": "light"
          }
        }
      ],
      "execution_count": 48,
      "metadata": {
        "collapsed": false,
        "outputHidden": false,
        "inputHidden": false
      }
    },
    {
      "cell_type": "code",
      "source": [
        "sns.distplot(ys, bins=100, hist=True, kde=False, axlabel='y-positions of clicks')"
      ],
      "outputs": [
        {
          "output_type": "execute_result",
          "execution_count": 50,
          "data": {
            "text/plain": [
              "<matplotlib.axes._subplots.AxesSubplot at 0x1a16b9f400>"
            ]
          },
          "metadata": {}
        },
        {
          "output_type": "display_data",
          "data": {
            "text/plain": [
              "<Figure size 432x288 with 1 Axes>"
            ],
            "image/png": "[encoded data removed]"
          },
          "metadata": {
            "needs_background": "light"
          }
        }
      ],
      "execution_count": 50,
      "metadata": {
        "collapsed": false,
        "outputHidden": false,
        "inputHidden": false
      }
    },
    {
      "cell_type": "code",
      "source": [
        "heatmap_df['WorkTimeInSeconds']"
      ],
      "outputs": [
        {
          "output_type": "execute_result",
          "execution_count": 9,
          "data": {
            "text/plain": [
              "0      60\n",
              "1      62\n",
              "2      10\n",
              "3       9\n",
              "4      28\n",
              "5      49\n",
              "6      47\n",
              "7      22\n",
              "8      30\n",
              "9      38\n",
              "10     12\n",
              "11     36\n",
              "12     89\n",
              "13     18\n",
              "14     75\n",
              "15     22\n",
              "16      8\n",
              "17     10\n",
              "18     60\n",
              "19     20\n",
              "20     12\n",
              "21     46\n",
              "22     15\n",
              "23     41\n",
              "24      7\n",
              "25     75\n",
              "26    117\n",
              "27      9\n",
              "28     23\n",
              "Name: WorkTimeInSeconds, dtype: int64"
            ]
          },
          "metadata": {}
        }
      ],
      "execution_count": 9,
      "metadata": {
        "collapsed": false,
        "outputHidden": false,
        "inputHidden": false
      }
    },
    {
      "cell_type": "code",
      "source": [],
      "outputs": [],
      "execution_count": null,
      "metadata": {
        "collapsed": false,
        "outputHidden": false,
        "inputHidden": false
      }
    }
  ],
  "metadata": {
    "kernel_info": {
      "name": "python3"
    },
    "language_info": {
      "name": "python",
      "version": "3.7.2",
      "mimetype": "text/x-python",
      "codemirror_mode": {
        "name": "ipython",
        "version": 3
      },
      "pygments_lexer": "ipython3",
      "nbconvert_exporter": "python",
      "file_extension": ".py"
    },
    "kernelspec": {
      "name": "python3",
      "language": "python",
      "display_name": "Python 3"
    },
    "nteract": {
      "version": "0.12.3"
    }
  },
  "nbformat": 4,
  "nbformat_minor": 4
}